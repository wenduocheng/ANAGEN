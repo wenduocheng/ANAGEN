{
 "cells": [
  {
   "cell_type": "code",
   "execution_count": 1,
   "metadata": {},
   "outputs": [],
   "source": [
    "import numpy as np\n",
    "import os\n",
    "import requests\n",
    "import torch\n",
    "import matplotlib.pyplot as plt"
   ]
  },
  {
   "cell_type": "code",
   "execution_count": 4,
   "metadata": {},
   "outputs": [],
   "source": [
    "def load_deepsea1(path, batch_size, one_hot = True, valid_split=-1,rc_aug=False, shift_aug=False):\n",
    "    print(f'Loading the data')\n",
    "    filename = path\n",
    "\n",
    "    if not os.path.isfile(filename):\n",
    "        with open(filename, 'wb') as f:\n",
    "            f.write(requests.get(\"https://pde-xd.s3.amazonaws.com/deepsea/deepsea_filtered.npz\").content)\n",
    "    \n",
    "    data = np.load(filename,allow_pickle=True)\n",
    "    \n",
    "    if valid_split > 0:\n",
    "        if one_hot:\n",
    "            x_train = torch.from_numpy(data['x_train']).transpose(-1, -2).float()\n",
    "        else:\n",
    "            x_train = torch.from_numpy(np.argmax(data['x_train'], axis=2)).unsqueeze(-2).float()\n",
    "        y_train = torch.from_numpy(data['y_train']).float() \n",
    "        if one_hot:\n",
    "            x_val = torch.from_numpy(data['x_val']).transpose(-1, -2).float() # shape = (2490, 1000, 4)\n",
    "        else:\n",
    "            x_val = torch.from_numpy(np.argmax(data['x_val'], axis=2)).unsqueeze(-2).float() \n",
    "        y_val = torch.from_numpy(data['y_val']).float() # shape = (2490, 36)\n",
    "\n",
    "    else:\n",
    "        if one_hot:\n",
    "            x_train = torch.from_numpy(np.concatenate((data['x_train'], data['x_val']), axis=0)).transpose(-1, -2).float() \n",
    "        else:\n",
    "            x_train = torch.from_numpy(np.argmax(np.concatenate((data['x_train'], data['x_val']), axis=0), axis=2)).unsqueeze(-2).float()\n",
    "        y_train = torch.from_numpy(np.concatenate((data['y_train'], data['y_val']), axis=0)).float() \n",
    "\n",
    "    if one_hot:\n",
    "        x_test = torch.from_numpy(data['x_test']).transpose(-1, -2).float() # shape = (149400, 1000, 4)\n",
    "    else:\n",
    "        x_test = torch.from_numpy(np.argmax(data['x_test'], axis=2)).unsqueeze(-2).float()\n",
    "    y_test = torch.from_numpy(data['y_test']).float() # shape = (149400, 36)\n",
    "\n",
    "    \n",
    "    return x_train,x_val,x_test,y_train,y_val,y_test"
   ]
  },
  {
   "cell_type": "code",
   "execution_count": 5,
   "metadata": {},
   "outputs": [
    {
     "name": "stdout",
     "output_type": "stream",
     "text": [
      "Loading the data\n"
     ]
    }
   ],
   "source": [
    "x_train,x_val,x_test,y_train,y_val,y_test = load_deepsea1('/Users/lilin/Desktop/02750_automation/data_analysis/deepsea_filtered.npz', 32, one_hot = True, valid_split=1,rc_aug=False, shift_aug=False)"
   ]
  },
  {
   "cell_type": "code",
   "execution_count": 27,
   "metadata": {},
   "outputs": [],
   "source": [
    "y_total = torch.cat([y_train,y_val,y_test],dim=0)"
   ]
  },
  {
   "cell_type": "code",
   "execution_count": 7,
   "metadata": {},
   "outputs": [
    {
     "name": "stdout",
     "output_type": "stream",
     "text": [
      "y_train shape: torch.Size([71753, 36])\n",
      "y_val shape: torch.Size([2490, 36])\n",
      "y_test shape: torch.Size([149004, 36])\n",
      "y_total shape: torch.Size([223247, 36])\n"
     ]
    }
   ],
   "source": [
    "print(f\"y_train shape: {y_train.shape}\")\n",
    "print(f\"y_val shape: {y_val.shape}\")\n",
    "print(f\"y_test shape: {y_test.shape}\")\n",
    "print(f\"y_total shape: {y_total.shape}\")"
   ]
  },
  {
   "cell_type": "code",
   "execution_count": 8,
   "metadata": {},
   "outputs": [
    {
     "name": "stdout",
     "output_type": "stream",
     "text": [
      "total number of samples: 223247\n"
     ]
    }
   ],
   "source": [
    "print(f\"total number of samples: {y_train.shape[0]+y_val.shape[0]+y_test.shape[0]}\")"
   ]
  },
  {
   "cell_type": "code",
   "execution_count": 28,
   "metadata": {},
   "outputs": [],
   "source": [
    "class_count_y_total_positive = y_total.sum(axis=0)\n",
    "class_count_y_total_negative =y_total.shape[0] - y_total.sum(axis=0)"
   ]
  },
  {
   "cell_type": "code",
   "execution_count": 29,
   "metadata": {},
   "outputs": [
    {
     "data": {
      "text/plain": [
       "Text(0.5, 1.0, ' Nas-Bench-360')"
      ]
     },
     "execution_count": 29,
     "metadata": {},
     "output_type": "execute_result"
    },
    {
     "data": {
      "image/png": "[encoded data removed]",
      "text/plain": [
       "<Figure size 1080x720 with 1 Axes>"
      ]
     },
     "metadata": {
      "needs_background": "light"
     },
     "output_type": "display_data"
    }
   ],
   "source": [
    "plt.figure(figsize=(15,10))\n",
    "plt.bar(range(0,len(class_count_y_total_positive)), class_count_y_total_positive,alpha=0.8,label=\"positive\",align=\"center\")\n",
    "plt.bar(range(0,len(class_count_y_total_negative)), class_count_y_total_negative,alpha=0.3,label=\"negative\",align=\"center\")\n",
    "plt.xlabel(\"Class\",fontsize=20)\n",
    "plt.ylabel(\"Count\",fontsize=20)\n",
    "plt.ylim((0,250000))\n",
    "plt.legend(fontsize=20)\n",
    "plt.title(\" Nas-Bench-360\",fontsize=30)\n",
    "\n",
    "\n"
   ]
  }
 ],
 "metadata": {
  "kernelspec": {
   "display_name": "Python 3",
   "language": "python",
   "name": "python3"
  },
  "language_info": {
   "codemirror_mode": {
    "name": "ipython",
    "version": 3
   },
   "file_extension": ".py",
   "mimetype": "text/x-python",
   "name": "python",
   "nbconvert_exporter": "python",
   "pygments_lexer": "ipython3",
   "version": "3.8.8"
  }
 },
 "nbformat": 4,
 "nbformat_minor": 2
}
